{
 "cells": [
  {
   "cell_type": "code",
   "execution_count": 1,
   "id": "d581d4af",
   "metadata": {},
   "outputs": [
    {
     "name": "stdout",
     "output_type": "stream",
     "text": [
      "arial.ttf\n",
      "arialbd.ttf\n",
      "arialbi.ttf\n",
      "ariali.ttf\n",
      "ariblk.ttf\n",
      "bahnschrift.ttf\n",
      "calibri.ttf\n",
      "calibrib.ttf\n",
      "calibrii.ttf\n",
      "calibril.ttf\n",
      "calibrili.ttf\n",
      "calibriz.ttf\n",
      "cambria.ttc\n",
      "cambriab.ttf\n",
      "cambriai.ttf\n",
      "cambriaz.ttf\n",
      "Candara.ttf\n",
      "Candarab.ttf\n",
      "Candarai.ttf\n",
      "Candaral.ttf\n",
      "Candarali.ttf\n",
      "Candaraz.ttf\n",
      "CascadiaCode.ttf\n",
      "CascadiaMono.ttf\n",
      "comic.ttf\n",
      "comicbd.ttf\n",
      "comici.ttf\n",
      "comicz.ttf\n",
      "consola.ttf\n",
      "consolab.ttf\n",
      "consolai.ttf\n",
      "consolaz.ttf\n",
      "constan.ttf\n",
      "constanb.ttf\n",
      "constani.ttf\n",
      "constanz.ttf\n",
      "corbel.ttf\n",
      "corbelb.ttf\n",
      "corbeli.ttf\n",
      "corbell.ttf\n",
      "corbelli.ttf\n",
      "corbelz.ttf\n",
      "cour.ttf\n",
      "courbd.ttf\n",
      "courbi.ttf\n",
      "couri.ttf\n",
      "Deng.ttf\n",
      "Dengb.ttf\n",
      "Dengl.ttf\n",
      "ebrima.ttf\n",
      "ebrimabd.ttf\n",
      "framd.ttf\n",
      "framdit.ttf\n",
      "Gabriola.ttf\n",
      "gadugi.ttf\n",
      "gadugib.ttf\n",
      "georgia.ttf\n",
      "georgiab.ttf\n",
      "georgiai.ttf\n",
      "georgiaz.ttf\n",
      "himalaya.ttf\n",
      "impact.ttf\n",
      "Inkfree.ttf\n",
      "javatext.ttf\n",
      "LeelaUIb.ttf\n",
      "LeelawUI.ttf\n",
      "LeelUIsl.ttf\n",
      "lucon.ttf\n",
      "l_10646.ttf\n",
      "malgun.ttf\n",
      "malgunbd.ttf\n",
      "malgunsl.ttf\n",
      "marlett.ttf\n",
      "micross.ttf\n",
      "mingliub.ttc\n",
      "mmrtext.ttf\n",
      "mmrtextb.ttf\n",
      "monbaiti.ttf\n",
      "msgothic.ttc\n",
      "msjh.ttc\n",
      "msjhbd.ttc\n",
      "msjhl.ttc\n",
      "mstmc.ttf\n",
      "msyh.ttc\n",
      "msyhbd.ttc\n",
      "msyhl.ttc\n",
      "msyi.ttf\n",
      "mvboli.ttf\n",
      "Nirmala.ttc\n",
      "NotoSansSC-VF.ttf\n",
      "NotoSerifSC-VF.ttf\n",
      "ntailu.ttf\n",
      "ntailub.ttf\n",
      "pala.ttf\n",
      "palab.ttf\n",
      "palabi.ttf\n",
      "palai.ttf\n",
      "phagspa.ttf\n",
      "phagspab.ttf\n",
      "SansSerifCollection.ttf\n",
      "segmdl2.ttf\n",
      "SegoeIcons.ttf\n",
      "segoepr.ttf\n",
      "segoeprb.ttf\n",
      "segoesc.ttf\n",
      "segoescb.ttf\n",
      "segoeui.ttf\n",
      "segoeuib.ttf\n",
      "segoeuii.ttf\n",
      "segoeuil.ttf\n",
      "segoeuisl.ttf\n",
      "segoeuiz.ttf\n",
      "seguibl.ttf\n",
      "seguibli.ttf\n",
      "seguiemj.ttf\n",
      "seguihis.ttf\n",
      "seguili.ttf\n",
      "seguisb.ttf\n",
      "seguisbi.ttf\n",
      "seguisli.ttf\n",
      "seguisym.ttf\n",
      "SegUIVar.ttf\n",
      "simfang.ttf\n",
      "simhei.ttf\n",
      "simkai.ttf\n",
      "simsun.ttc\n",
      "simsunb.ttf\n",
      "SimsunExtG.ttf\n",
      "SitkaVF-Italic.ttf\n",
      "SitkaVF.ttf\n",
      "Source Han Serif SC Heavy (TrueType).ttf\n",
      "sylfaen.ttf\n",
      "symbol.ttf\n",
      "tahoma.ttf\n",
      "tahomabd.ttf\n",
      "taile.ttf\n",
      "taileb.ttf\n",
      "times.ttf\n",
      "timesbd.ttf\n",
      "timesbi.ttf\n",
      "timesi.ttf\n",
      "trebuc.ttf\n",
      "trebucbd.ttf\n",
      "trebucbi.ttf\n",
      "trebucit.ttf\n",
      "verdana.ttf\n",
      "verdanab.ttf\n",
      "verdanai.ttf\n",
      "verdanaz.ttf\n",
      "webdings.ttf\n",
      "wingding.ttf\n",
      "YuGothB.ttc\n",
      "YuGothL.ttc\n",
      "YuGothM.ttc\n",
      "YuGothR.ttc\n"
     ]
    }
   ],
   "source": [
    "import os\n",
    "\n",
    "font_dir = \"C:/Windows/Fonts\"\n",
    "for file in os.listdir(font_dir):\n",
    "    if file.endswith(\".ttf\") or file.endswith(\".ttc\"):\n",
    "        print(file)"
   ]
  },
  {
   "cell_type": "code",
   "execution_count": 1,
   "id": "ae0fd490",
   "metadata": {},
   "outputs": [
    {
     "name": "stderr",
     "output_type": "stream",
     "text": [
      "d:\\Anaconda3\\envs\\pdf-ocr-dl\\lib\\site-packages\\tqdm\\auto.py:21: TqdmWarning: IProgress not found. Please update jupyter and ipywidgets. See https://ipywidgets.readthedocs.io/en/stable/user_install.html\n",
      "  from .autonotebook import tqdm as notebook_tqdm\n"
     ]
    },
    {
     "name": "stdout",
     "output_type": "stream",
     "text": [
      "✅ Detectron2LayoutModel is ready!\n"
     ]
    }
   ],
   "source": [
    "from layoutparser.models import Detectron2LayoutModel\n",
    "print(\"✅ Detectron2LayoutModel is ready!\")\n",
    "\n"
   ]
  },
  {
   "cell_type": "code",
   "execution_count": 2,
   "id": "819c8a00",
   "metadata": {},
   "outputs": [
    {
     "name": "stderr",
     "output_type": "stream",
     "text": [
      "d:\\Anaconda3\\envs\\pdf-ocr-dl\\lib\\site-packages\\paddle\\utils\\cpp_extension\\extension_utils.py:711: UserWarning: No ccache found. Please be aware that recompiling all source files may be required. You can download and install ccache from: https://github.com/ccache/ccache/blob/master/doc/INSTALL.md\n",
      "  warnings.warn(warning_message)\n"
     ]
    },
    {
     "name": "stdout",
     "output_type": "stream",
     "text": [
      "3.0.0\n",
      "cpu\n"
     ]
    }
   ],
   "source": [
    "import paddle\n",
    "print(paddle.__version__)\n",
    "print(paddle.device.get_device())\n"
   ]
  },
  {
   "cell_type": "code",
   "execution_count": null,
   "id": "d3689ea5",
   "metadata": {},
   "outputs": [
    {
     "ename": "AttributeError",
     "evalue": "module layoutparser has no attribute Detectron2LayoutModel",
     "output_type": "error",
     "traceback": [
      "\u001b[1;31m---------------------------------------------------------------------------\u001b[0m",
      "\u001b[1;31mAttributeError\u001b[0m                            Traceback (most recent call last)",
      "Cell \u001b[1;32mIn[1], line 2\u001b[0m\n\u001b[0;32m      1\u001b[0m \u001b[38;5;28;01mimport\u001b[39;00m\u001b[38;5;250m \u001b[39m\u001b[38;5;21;01mlayoutparser\u001b[39;00m\u001b[38;5;250m \u001b[39m\u001b[38;5;28;01mas\u001b[39;00m\u001b[38;5;250m \u001b[39m\u001b[38;5;21;01mlp\u001b[39;00m\n\u001b[1;32m----> 2\u001b[0m \u001b[38;5;28mprint\u001b[39m(\u001b[43mlp\u001b[49m\u001b[38;5;241;43m.\u001b[39;49m\u001b[43mDetectron2LayoutModel\u001b[49m)\n",
      "File \u001b[1;32md:\\Anaconda3\\envs\\pdf-ocr-dl\\lib\\site-packages\\layoutparser\\file_utils.py:226\u001b[0m, in \u001b[0;36m_LazyModule.__getattr__\u001b[1;34m(self, name)\u001b[0m\n\u001b[0;32m    224\u001b[0m     value \u001b[38;5;241m=\u001b[39m \u001b[38;5;28mgetattr\u001b[39m(module, name)\n\u001b[0;32m    225\u001b[0m \u001b[38;5;28;01melse\u001b[39;00m:\n\u001b[1;32m--> 226\u001b[0m     \u001b[38;5;28;01mraise\u001b[39;00m \u001b[38;5;167;01mAttributeError\u001b[39;00m(\u001b[38;5;124mf\u001b[39m\u001b[38;5;124m\"\u001b[39m\u001b[38;5;124mmodule \u001b[39m\u001b[38;5;132;01m{\u001b[39;00m\u001b[38;5;28mself\u001b[39m\u001b[38;5;241m.\u001b[39m\u001b[38;5;18m__name__\u001b[39m\u001b[38;5;132;01m}\u001b[39;00m\u001b[38;5;124m has no attribute \u001b[39m\u001b[38;5;132;01m{\u001b[39;00mname\u001b[38;5;132;01m}\u001b[39;00m\u001b[38;5;124m\"\u001b[39m)\n\u001b[0;32m    228\u001b[0m \u001b[38;5;28msetattr\u001b[39m(\u001b[38;5;28mself\u001b[39m, name, value)\n\u001b[0;32m    229\u001b[0m \u001b[38;5;28;01mreturn\u001b[39;00m value\n",
      "\u001b[1;31mAttributeError\u001b[0m: module layoutparser has no attribute Detectron2LayoutModel"
     ]
    }
   ],
   "source": [
    "import layoutparser as lp\n",
    "\n",
    "model = lp.PaddleDetectionLayoutModel(\n",
    "    model_path=\"lp://PubLayNet/ppyolov2_r50vd_dcn_365e_publaynet\",\n",
    "    label_map={0: \"Text\", 1: \"Title\", 2: \"List\", 3: \"Table\", 4: \"Figure\"},\n",
    "    enforce_cpu=True\n",
    ")\n"
   ]
  }
 ],
 "metadata": {
  "kernelspec": {
   "display_name": "Python 3",
   "language": "python",
   "name": "python3"
  },
  "language_info": {
   "codemirror_mode": {
    "name": "ipython",
    "version": 3
   },
   "file_extension": ".py",
   "mimetype": "text/x-python",
   "name": "python",
   "nbconvert_exporter": "python",
   "pygments_lexer": "ipython3",
   "version": "3.8.20"
  }
 },
 "nbformat": 4,
 "nbformat_minor": 5
}
